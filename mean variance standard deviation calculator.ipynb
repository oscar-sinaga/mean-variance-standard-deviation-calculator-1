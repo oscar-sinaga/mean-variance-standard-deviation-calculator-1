{
 "cells": [
  {
   "cell_type": "markdown",
   "metadata": {},
   "source": [
    "**Creating a function named calculate() in mean_var_std.py that uses Numpy to output the mean, variance, standard deviation, max, min, and sum of the rows, columns, and elements in a 3 x 3 matrix.**"
   ]
  },
  {
   "cell_type": "code",
   "execution_count": 1,
   "metadata": {},
   "outputs": [],
   "source": [
    "import numpy as np\n",
    "\n",
    "def calculate(list):\n",
    "  if len(list) != 9:\n",
    "      #raise ValueError(\"List must contain nine numbers.\")\n",
    "      raise ValueError(\"List must contain nine numbers.\")\n",
    "\n",
    "  else:\n",
    "    arr = np.array(list)\n",
    "\n",
    "    # make list= [[0,1,2]\n",
    "    #            [3,4,5]\n",
    "    #            [6,7,8,9]]\n",
    "    arr = arr.reshape((3,3))\n",
    "\n",
    "    #mean column\n",
    "    mean_row = np.mean(arr,axis=0).tolist()\n",
    "    mean_col = np.mean(arr,axis=1).tolist()\n",
    "    mean_flat = np.mean(arr).tolist()\n",
    "\n",
    "    #variance column\n",
    "    variance_row = np.var(arr,0).tolist()\n",
    "    variance_col = np.var(arr,1).tolist()\n",
    "    variance_flat = np.var(arr).tolist()\n",
    "\n",
    "    #standard deviation column\n",
    "    std_row = np.std(arr,0).tolist()\n",
    "    std_col = np.std(arr,1).tolist()\n",
    "    std_flat = np.std(arr).tolist()\n",
    "\n",
    "    #max column\n",
    "    max_row = np.amax(arr,0).tolist()\n",
    "    max_col = np.amax(arr,1).tolist()\n",
    "    max_flat = np.amax(arr).tolist()\n",
    "    \n",
    "    #min column\n",
    "    min_row = np.amin(arr,0).tolist()\n",
    "    min_col = np.amin(arr,1).tolist()\n",
    "    min_flat = np.amin(arr).tolist()\n",
    "    \n",
    "    #min column\n",
    "    sum_row = np.sum(arr,0).tolist()\n",
    "    sum_col = np.sum(arr,1).tolist()\n",
    "    sum_flat = np.sum(arr).tolist()\n",
    "\n",
    "    # the statistic Description\n",
    "    result = {'mean':[mean_row,mean_col,mean_flat],'variance':[variance_row,variance_col,variance_flat],'standard deviation':[std_row,std_col,std_flat],'max':[max_row,max_col,max_flat],'min':[min_row,min_col,min_flat],'sum':[sum_row,sum_col,sum_flat]}\n",
    "    return result\n",
    "  \n"
   ]
  },
  {
   "cell_type": "markdown",
   "metadata": {},
   "source": [
    "**Calculate the mean, variance, standard deviation, max, min, and sum of the rows, columns, and elements in [0,1,2,3,4,5,6,7,8]:**"
   ]
  },
  {
   "cell_type": "code",
   "execution_count": 2,
   "metadata": {},
   "outputs": [
    {
     "name": "stdout",
     "output_type": "stream",
     "text": [
      "{'mean': [[3.0, 4.0, 5.0], [1.0, 4.0, 7.0], 4.0], 'variance': [[6.0, 6.0, 6.0], [0.6666666666666666, 0.6666666666666666, 0.6666666666666666], 6.666666666666667], 'standard deviation': [[2.449489742783178, 2.449489742783178, 2.449489742783178], [0.816496580927726, 0.816496580927726, 0.816496580927726], 2.581988897471611], 'max': [[6, 7, 8], [2, 5, 8], 8], 'min': [[0, 1, 2], [0, 3, 6], 0], 'sum': [[9, 12, 15], [3, 12, 21], 36]}\n"
     ]
    }
   ],
   "source": [
    "print(calculate([0,1,2,3,4,5,6,7,8]))"
   ]
  },
  {
   "cell_type": "markdown",
   "metadata": {},
   "source": [
    "**Calculate the mean, variance, standard deviation, max, min, and sum of the rows, columns, and elements in [2,5,1,3,10,5,100,7,8]:**"
   ]
  },
  {
   "cell_type": "code",
   "execution_count": 5,
   "metadata": {},
   "outputs": [
    {
     "name": "stdout",
     "output_type": "stream",
     "text": [
      "{'mean': [[35.0, 7.333333333333333, 4.666666666666667], [2.6666666666666665, 6.0, 38.333333333333336], 15.666666666666666], 'variance': [[2112.6666666666665, 4.222222222222222, 8.222222222222221], [2.8888888888888893, 8.666666666666666, 1901.5555555555557], 896.4444444444443], 'standard deviation': [[45.963753835676506, 2.0548046676563256, 2.8674417556808756], [1.699673171197595, 2.943920288775949, 43.60682923070142], 29.940682097180826], 'max': [[100, 10, 8], [5, 10, 100], 100], 'min': [[2, 5, 1], [1, 3, 7], 1], 'sum': [[105, 22, 14], [8, 18, 115], 141]}\n"
     ]
    }
   ],
   "source": [
    "print(calculate([2,5,1,3,10,5,100,7,8]))"
   ]
  },
  {
   "cell_type": "markdown",
   "metadata": {},
   "source": [
    "**Calculate the mean, variance, standard deviation, max, min, and sum of the rows, columns, and elements in [3,1,2,3,5,5,7,8] will call Value Error because the list doesn't contain nine number:**"
   ]
  },
  {
   "cell_type": "code",
   "execution_count": 3,
   "metadata": {},
   "outputs": [
    {
     "ename": "ValueError",
     "evalue": "List must contain nine numbers.",
     "output_type": "error",
     "traceback": [
      "\u001b[1;31m---------------------------------------------------------------------------\u001b[0m",
      "\u001b[1;31mValueError\u001b[0m                                Traceback (most recent call last)",
      "\u001b[1;32mUntitled-1.ipynb Cell 6'\u001b[0m in \u001b[0;36m<cell line: 1>\u001b[1;34m()\u001b[0m\n\u001b[1;32m----> <a href='vscode-notebook-cell:Untitled-1.ipynb?jupyter-notebook#ch0000006untitled?line=0'>1</a>\u001b[0m \u001b[39mprint\u001b[39m(calculate([\u001b[39m3\u001b[39;49m,\u001b[39m1\u001b[39;49m,\u001b[39m2\u001b[39;49m,\u001b[39m3\u001b[39;49m,\u001b[39m5\u001b[39;49m,\u001b[39m5\u001b[39;49m,\u001b[39m7\u001b[39;49m,\u001b[39m8\u001b[39;49m]))\n",
      "\u001b[1;32mUntitled-1.ipynb Cell 2'\u001b[0m in \u001b[0;36mcalculate\u001b[1;34m(list)\u001b[0m\n\u001b[0;32m      <a href='vscode-notebook-cell:Untitled-1.ipynb?jupyter-notebook#ch0000001untitled?line=2'>3</a>\u001b[0m \u001b[39mdef\u001b[39;00m \u001b[39mcalculate\u001b[39m(\u001b[39mlist\u001b[39m):\n\u001b[0;32m      <a href='vscode-notebook-cell:Untitled-1.ipynb?jupyter-notebook#ch0000001untitled?line=3'>4</a>\u001b[0m   \u001b[39mif\u001b[39;00m \u001b[39mlen\u001b[39m(\u001b[39mlist\u001b[39m) \u001b[39m!=\u001b[39m \u001b[39m9\u001b[39m:\n\u001b[0;32m      <a href='vscode-notebook-cell:Untitled-1.ipynb?jupyter-notebook#ch0000001untitled?line=4'>5</a>\u001b[0m       \u001b[39m#raise ValueError(\"List must contain nine numbers.\")\u001b[39;00m\n\u001b[1;32m----> <a href='vscode-notebook-cell:Untitled-1.ipynb?jupyter-notebook#ch0000001untitled?line=5'>6</a>\u001b[0m       \u001b[39mraise\u001b[39;00m \u001b[39mValueError\u001b[39;00m(\u001b[39m\"\u001b[39m\u001b[39mList must contain nine numbers.\u001b[39m\u001b[39m\"\u001b[39m)\n\u001b[0;32m      <a href='vscode-notebook-cell:Untitled-1.ipynb?jupyter-notebook#ch0000001untitled?line=7'>8</a>\u001b[0m   \u001b[39melse\u001b[39;00m:\n\u001b[0;32m      <a href='vscode-notebook-cell:Untitled-1.ipynb?jupyter-notebook#ch0000001untitled?line=8'>9</a>\u001b[0m     arr \u001b[39m=\u001b[39m np\u001b[39m.\u001b[39marray(\u001b[39mlist\u001b[39m)\n",
      "\u001b[1;31mValueError\u001b[0m: List must contain nine numbers."
     ]
    }
   ],
   "source": [
    "print(calculate([0,1,2,3,4,5,6,7,8]))"
   ]
  },
  {
   "cell_type": "code",
   "execution_count": null,
   "metadata": {},
   "outputs": [],
   "source": []
  }
 ],
 "metadata": {
  "interpreter": {
   "hash": "fb4569285eef3a3450cb62085a5b1e0da4bce0af555edc33dcf29baf3acc1368"
  },
  "kernelspec": {
   "display_name": "Python 3.10.4 64-bit",
   "language": "python",
   "name": "python3"
  },
  "language_info": {
   "codemirror_mode": {
    "name": "ipython",
    "version": 3
   },
   "file_extension": ".py",
   "mimetype": "text/x-python",
   "name": "python",
   "nbconvert_exporter": "python",
   "pygments_lexer": "ipython3",
   "version": "3.10.4"
  },
  "orig_nbformat": 4
 },
 "nbformat": 4,
 "nbformat_minor": 2
}
